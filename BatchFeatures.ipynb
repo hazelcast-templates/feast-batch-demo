{
 "cells": [
  {
   "cell_type": "markdown",
   "id": "d2575f2e-d1ea-42ed-a2c0-1130f4f174f4",
   "metadata": {},
   "source": [
    "# Hazelcast Feast Integration Batch Features Demo"
   ]
  },
  {
   "cell_type": "markdown",
   "id": "d02adeb0-dcb6-4330-bd65-e657f1926ff2",
   "metadata": {},
   "source": [
    "## Setup\n",
    "\n",
    "* Offline store: Postgresql\n",
    "* Online store: Hazelcast\n",
    "\n",
    "Hazelcast runs as a single member cluster."
   ]
  },
  {
   "cell_type": "markdown",
   "id": "a37c4f86-7f2f-4cfc-84c1-4d44a48f36dc",
   "metadata": {},
   "source": [
    "## Demo Data\n",
    "\n",
    "`demo_data.jsonl` contains randomly generated credit card transaction data encoded as [JSON lines](https://jsonlines.org/).\n",
    "\n",
    "```json\n",
    "# demo_data.jsonl\n",
    "{\n",
    "  \"acct_num\": \"UKFH75714629958700\",\n",
    "  \"amt\": 189.22,\n",
    "  \"unix_time\": 1722574800\n",
    "}\n",
    "```\n",
    "\n",
    "The data file exist in the member container, so it can be accessed by Jet jobs."
   ]
  },
  {
   "cell_type": "markdown",
   "id": "d0f8ba8a-2c5f-4191-b2c6-7172e88899d9",
   "metadata": {},
   "source": [
    "## Offline Feature Storage\n",
    "\n",
    "In this demo, offline features are stored in a single PostgreSQL table.\n",
    "The table is populated by a Hazelcast Jet job that reads data from `demo_data.jsonl` and transforms them to create the features.\n",
    "\n",
    "The table is defined as follows:\n",
    "\n",
    "```\n",
    "create table user_transaction_count_7d (\n",
    "    id serial primary key,\n",
    "    user_id text,\n",
    "    transaction_count_7d integer,\n",
    "    feature_timestamp timestamp\n",
    ");\n",
    "```\n",
    "\n",
    "The tables was already created when the PostgreSQL container started.\n",
    "\n",
    "In order to access PostgreSQL tables from Jet jobs, a data connection must be created.\n",
    "You can do that by running an SQL script using CLC:"
   ]
  },
  {
   "cell_type": "code",
   "execution_count": null,
   "id": "597972cc-6deb-4ac8-9cfd-bdd1b09dcee0",
   "metadata": {},
   "outputs": [],
   "source": [
    "! clc script run --echo etc/create_data_connection.sql"
   ]
  },
  {
   "cell_type": "markdown",
   "id": "f8005ba7-3ac0-4444-8941-dd3a53ee6264",
   "metadata": {},
   "source": [
    "You can verify that the data connection is active by running the following command:"
   ]
  },
  {
   "cell_type": "code",
   "execution_count": null,
   "id": "2e23a449-57d7-4990-acb5-34ef96188ae1",
   "metadata": {},
   "outputs": [],
   "source": [
    "! clc sql \"show resources for demo\""
   ]
  },
  {
   "cell_type": "markdown",
   "id": "3402f01a-a155-473c-84aa-91463d0b7c61",
   "metadata": {},
   "source": [
    "## Feast Setup\n",
    "\n",
    "The Feast project is in the `feature_repo` directory.\n",
    "You can take a look at the Feast configuration using the following command:"
   ]
  },
  {
   "cell_type": "code",
   "execution_count": null,
   "id": "667e1ba8-9d03-47db-bcdd-ad2d60ad4f1e",
   "metadata": {},
   "outputs": [],
   "source": [
    "! cat feature_repo/feature_store.yaml"
   ]
  },
  {
   "cell_type": "markdown",
   "id": "b1ea3be4-e622-4d9c-9e44-96c939488b8c",
   "metadata": {},
   "source": [
    "The feature views are defined in the `fraud_features.py`.\n",
    "Run the following command to see its contents:"
   ]
  },
  {
   "cell_type": "code",
   "execution_count": null,
   "id": "475feeab-f323-4e98-8186-b38f006f8bbf",
   "metadata": {},
   "outputs": [],
   "source": [
    "! cat feature_repo/fraud_features.py"
   ]
  },
  {
   "cell_type": "markdown",
   "id": "6d86b718-c37c-4ded-abd5-53871ba15f4d",
   "metadata": {},
   "source": [
    "Before being able to use features, you must run the following command:"
   ]
  },
  {
   "cell_type": "code",
   "execution_count": null,
   "id": "8c7f37ca-e672-4220-931d-e79f83899fa4",
   "metadata": {},
   "outputs": [],
   "source": [
    "! feast -c feature_repo apply"
   ]
  },
  {
   "cell_type": "markdown",
   "id": "1be5f9f9-fac8-420c-8580-7cf149504dd5",
   "metadata": {},
   "source": [
    "## Jet Job\n",
    "\n",
    "The Jet job reads transactions from `demo_data.jsonl` and populates the `user_transaction_count_7d` table in the PostgreSQL database.\n",
    "You can see how the pipeline is defined by running the following command:"
   ]
  },
  {
   "cell_type": "code",
   "execution_count": null,
   "id": "923dedc4-c225-460d-ad42-82b69889612d",
   "metadata": {},
   "outputs": [],
   "source": "! cat jet/batch_features/src/main/java/com/example/Main.java"
  },
  {
   "cell_type": "markdown",
   "id": "7301974c-99eb-48bc-ab85-660cba1a35fc",
   "metadata": {},
   "source": [
    "You have to compile the Java code that creates the Jet pipeline.\n",
    "We provided an easy-to-use script to do that from this Jupyter Notebook:"
   ]
  },
  {
   "cell_type": "code",
   "execution_count": null,
   "id": "24cb089d-fa27-47ee-b7d7-dd10d6f80956",
   "metadata": {},
   "outputs": [],
   "source": "! run build_jet batch_features"
  },
  {
   "cell_type": "markdown",
   "id": "20c965f8-6f99-4863-b0a8-a04148270c4f",
   "metadata": {},
   "source": [
    "You can now run create the Jet pipeline and run the jobs:"
   ]
  },
  {
   "cell_type": "code",
   "execution_count": null,
   "id": "66d70163-127f-4246-9a42-78088f929fb2",
   "metadata": {},
   "outputs": [],
   "source": "! clc job submit build/jet/batch_features/libs/*.jar /home/hazelcast/data"
  },
  {
   "cell_type": "markdown",
   "id": "ceb843cd-676d-4209-b5da-b3c26c0129d9",
   "metadata": {},
   "source": [
    "You can list the running jobs and verify that the jobs completed successfully using the following command:"
   ]
  },
  {
   "cell_type": "code",
   "execution_count": null,
   "id": "70874e4b-2f9d-43b7-a560-528e73e1ba6c",
   "metadata": {},
   "outputs": [],
   "source": [
    "! clc job list"
   ]
  },
  {
   "cell_type": "markdown",
   "id": "07a69d5a-f6a3-4737-af95-416e63fab1aa",
   "metadata": {},
   "source": [
    "## Materialization\n",
    "\n",
    "Materialization is the process of transferring features from the offline store to the online store. That is from PostgreSQL to Hazelcast in this case.\n",
    "Run the following command to do that:"
   ]
  },
  {
   "cell_type": "code",
   "execution_count": null,
   "id": "7677fb28-3fc9-417f-8adc-6e49aa6c1cca",
   "metadata": {},
   "outputs": [],
   "source": "! feast -c feature_repo materialize-incremental \"2024-07-24T08:00:00\""
  },
  {
   "cell_type": "markdown",
   "id": "84050d06-b924-4822-ac7f-ad1b8a9e40a9",
   "metadata": {},
   "source": [
    "Running the command above created an IMap that corresponds to the \"user_transaction_count_7d\" feature in the Hazelcasst cluster.\n",
    "You can list it using the following command:"
   ]
  },
  {
   "cell_type": "code",
   "execution_count": null,
   "id": "7ae17a34-8752-4db8-b08c-5dadb26fea5c",
   "metadata": {},
   "outputs": [],
   "source": [
    "! clc object list map"
   ]
  },
  {
   "cell_type": "markdown",
   "id": "64d0da37-6720-4f05-8848-9d5ab30c02e9",
   "metadata": {},
   "source": "Check the contents of the feature IMap to check the data written by Feast:"
  },
  {
   "cell_type": "code",
   "execution_count": null,
   "id": "c88dc7da-00ca-4e53-8765-70113d2c0b22",
   "metadata": {},
   "outputs": [],
   "source": [
    "! clc map -n feast_batch_user_transaction_count_7d entry-set | head -10"
   ]
  },
  {
   "cell_type": "markdown",
   "id": "49670b0e-5b50-4eec-a255-1ef6f98f24fd",
   "metadata": {},
   "source": [
    "## What's Next?\n",
    "\n",
    "(Link to Hazelcast Feast documentation.)"
   ]
  }
 ],
 "metadata": {
  "kernelspec": {
   "display_name": "Python 3 (ipykernel)",
   "language": "python",
   "name": "python3"
  },
  "language_info": {
   "codemirror_mode": {
    "name": "ipython",
    "version": 3
   },
   "file_extension": ".py",
   "mimetype": "text/x-python",
   "name": "python",
   "nbconvert_exporter": "python",
   "pygments_lexer": "ipython3",
   "version": "3.11.6"
  }
 },
 "nbformat": 4,
 "nbformat_minor": 5
}
